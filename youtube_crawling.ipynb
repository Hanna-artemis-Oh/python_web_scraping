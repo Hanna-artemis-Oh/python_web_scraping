{
  "nbformat": 4,
  "nbformat_minor": 0,
  "metadata": {
    "colab": {
      "name": "youtube_crawling.ipynb",
      "provenance": []
    },
    "kernelspec": {
      "name": "python3",
      "display_name": "Python 3"
    },
    "language_info": {
      "name": "python"
    }
  },
  "cells": [
    {
      "cell_type": "code",
      "execution_count": null,
      "metadata": {
        "id": "bevHjrd_kg_v"
      },
      "outputs": [],
      "source": [
        ""
      ]
    },
    {
      "cell_type": "markdown",
      "metadata": {
        "id": "-839eJrFQsFu"
      },
      "source": [
        "### 유튜브 정보 수집\n",
        "\n",
        "* 영상제목 / 영상주소 / 조회수 "
      ]
    },
    {
      "cell_type": "code",
      "metadata": {
        "id": "BXjFFvKnQLrM",
        "colab": {
          "base_uri": "https://localhost:8080/"
        },
        "outputId": "da75a3f0-5b9f-421c-ea67-9e80e2f80ce2"
      },
      "source": [
        "# Chrome 드라이버 생성 후 Browser 객체 반환 \n",
        "driver = webdriver.Chrome('chromedriver', chrome_options=chrome_options)"
      ],
      "execution_count": null,
      "outputs": [
        {
          "output_type": "stream",
          "name": "stderr",
          "text": [
            "/usr/local/lib/python3.7/dist-packages/ipykernel_launcher.py:2: DeprecationWarning: use options instead of chrome_options\n",
            "  \n"
          ]
        }
      ]
    },
    {
      "cell_type": "code",
      "metadata": {
        "collapsed": true,
        "id": "n7D7Ik-rQsFv",
        "colab": {
          "base_uri": "https://localhost:8080/"
        },
        "outputId": "a639cb2c-1461-45b2-a614-f83031a86145"
      },
      "source": [
        "url_main = 'https://www.youtube.com'\n",
        "url_sub = '/results?search_query='\n",
        "query = '머신러닝'\n",
        "\n",
        "\n",
        "url = url_main + url_sub + query\n",
        "driver.get(url)\n",
        "driver.save_screenshot('youtube_00.png')"
      ],
      "execution_count": null,
      "outputs": [
        {
          "output_type": "execute_result",
          "data": {
            "text/plain": [
              "True"
            ]
          },
          "metadata": {},
          "execution_count": 108
        }
      ]
    },
    {
      "cell_type": "code",
      "metadata": {
        "collapsed": true,
        "id": "EKWEZNT1QsFv"
      },
      "source": [
        "# 현재 페이지에서 5번 스크롤링\n",
        "body = driver.find_element(By.TAG_NAME, 'body')\n",
        "for i in range(5):\n",
        "  body.send_keys(Keys.PAGE_DOWN)\n",
        "  driver.save_screenshot(f'youtube_{i+1:02}.png')\n",
        "  time.sleep(2)"
      ],
      "execution_count": null,
      "outputs": []
    },
    {
      "cell_type": "code",
      "metadata": {
        "collapsed": true,
        "id": "CAoKvFRoQsFv"
      },
      "source": [
        "# BeautifulSoup으로 웹 페이지 해석\n",
        "soup = bs(driver.page_source, 'html.parser')\n",
        "soup"
      ],
      "execution_count": null,
      "outputs": []
    },
    {
      "cell_type": "code",
      "source": [
        "len([title.text for title in soup.select('a#video-title > yt-formatted-string') ])"
      ],
      "metadata": {
        "colab": {
          "base_uri": "https://localhost:8080/"
        },
        "id": "Ipx3X6xLUMOc",
        "outputId": "73a7f57a-2d7a-4d5b-d13d-72ac9966e544"
      },
      "execution_count": null,
      "outputs": [
        {
          "output_type": "execute_result",
          "data": {
            "text/plain": [
              "25"
            ]
          },
          "metadata": {},
          "execution_count": 130
        }
      ]
    },
    {
      "cell_type": "code",
      "source": [
        "len([url_main + v_url['href'] for v_url in soup.select('a#video-title') ])"
      ],
      "metadata": {
        "colab": {
          "base_uri": "https://localhost:8080/"
        },
        "id": "tWkIJv2yWEzY",
        "outputId": "e5cfbc36-e77b-4eba-a8dd-19434ea24fbd"
      },
      "execution_count": null,
      "outputs": [
        {
          "output_type": "execute_result",
          "data": {
            "text/plain": [
              "25"
            ]
          },
          "metadata": {},
          "execution_count": 129
        }
      ]
    },
    {
      "cell_type": "code",
      "source": [
        "len([view.text.split()[0] for view in soup.select('div#metadata-line > span')[::2]])"
      ],
      "metadata": {
        "colab": {
          "base_uri": "https://localhost:8080/"
        },
        "id": "giyE7aXNXTSF",
        "outputId": "857b059e-a5c3-4c56-cfac-ecf9e2c926e5"
      },
      "execution_count": null,
      "outputs": [
        {
          "output_type": "execute_result",
          "data": {
            "text/plain": [
              "25"
            ]
          },
          "metadata": {},
          "execution_count": 128
        }
      ]
    },
    {
      "cell_type": "code",
      "source": [
        ""
      ],
      "metadata": {
        "id": "h2kZD3eSYZUV"
      },
      "execution_count": null,
      "outputs": []
    },
    {
      "cell_type": "code",
      "metadata": {
        "id": "z-pq68-sQsFv"
      },
      "source": [
        "# 영상제목 / 영상주소 / 조회수 \n",
        "nums = []\n",
        "titles = [title.text for title in soup.select('a#video-title > yt-formatted-string') ]\n",
        "video_urls = [url_main + v_url['href'] for v_url in soup.select('a#video-title') ]\n",
        "views = [view.text.split()[0] for view in soup.select('div#metadata-line > span')[::2]]\n",
        "nums = range(1,len(titles)+1)"
      ],
      "execution_count": null,
      "outputs": []
    },
    {
      "cell_type": "code",
      "metadata": {
        "id": "ToLu10DTQsFw",
        "colab": {
          "base_uri": "https://localhost:8080/",
          "height": 238
        },
        "outputId": "adf3c243-d895-438f-b5f5-ba8a49f9e723"
      },
      "source": [
        "# 정형데이터(판다스)로 변환\n",
        "df = pd.DataFrame({'num':nums, 'titles':titles, 'video_urls':video_urls, 'views':views})\n",
        "df.set_index('num', inplace=True)\n",
        "df.head()"
      ],
      "execution_count": null,
      "outputs": [
        {
          "output_type": "execute_result",
          "data": {
            "text/plain": [
              "                                            titles  \\\n",
              "num                                                  \n",
              "1                  Machine learning 1 - 2. 머신러닝이란?   \n",
              "2    머신러닝 강의 1편 10시간 완성 - [카카오 추천팀 출신] - 카이스트 AI박사   \n",
              "3        인공지능? 머신러닝? 딥러닝? 그 차이는 무엇일까?! l AI Planet   \n",
              "4          머신러닝(기계학습) overview of Machine Learning   \n",
              "5                     Don’t learn machine learning   \n",
              "\n",
              "                                      video_urls views  \n",
              "num                                                     \n",
              "1    https://www.youtube.com/watch?v=KR8ddnPjCtk   75K  \n",
              "2    https://www.youtube.com/watch?v=oyzIT1g1Z3U   13K  \n",
              "3    https://www.youtube.com/watch?v=EMMkLEXN09I   11K  \n",
              "4    https://www.youtube.com/watch?v=IiyYsAMmmw4   18K  \n",
              "5    https://www.youtube.com/watch?v=432p379XXMw   81K  "
            ],
            "text/html": [
              "\n",
              "  <div id=\"df-3d5484ec-358a-494e-8741-64f1e7198fb0\">\n",
              "    <div class=\"colab-df-container\">\n",
              "      <div>\n",
              "<style scoped>\n",
              "    .dataframe tbody tr th:only-of-type {\n",
              "        vertical-align: middle;\n",
              "    }\n",
              "\n",
              "    .dataframe tbody tr th {\n",
              "        vertical-align: top;\n",
              "    }\n",
              "\n",
              "    .dataframe thead th {\n",
              "        text-align: right;\n",
              "    }\n",
              "</style>\n",
              "<table border=\"1\" class=\"dataframe\">\n",
              "  <thead>\n",
              "    <tr style=\"text-align: right;\">\n",
              "      <th></th>\n",
              "      <th>titles</th>\n",
              "      <th>video_urls</th>\n",
              "      <th>views</th>\n",
              "    </tr>\n",
              "    <tr>\n",
              "      <th>num</th>\n",
              "      <th></th>\n",
              "      <th></th>\n",
              "      <th></th>\n",
              "    </tr>\n",
              "  </thead>\n",
              "  <tbody>\n",
              "    <tr>\n",
              "      <th>1</th>\n",
              "      <td>Machine learning 1 - 2. 머신러닝이란?</td>\n",
              "      <td>https://www.youtube.com/watch?v=KR8ddnPjCtk</td>\n",
              "      <td>75K</td>\n",
              "    </tr>\n",
              "    <tr>\n",
              "      <th>2</th>\n",
              "      <td>머신러닝 강의 1편 10시간 완성 - [카카오 추천팀 출신] - 카이스트 AI박사</td>\n",
              "      <td>https://www.youtube.com/watch?v=oyzIT1g1Z3U</td>\n",
              "      <td>13K</td>\n",
              "    </tr>\n",
              "    <tr>\n",
              "      <th>3</th>\n",
              "      <td>인공지능? 머신러닝? 딥러닝? 그 차이는 무엇일까?! l AI Planet</td>\n",
              "      <td>https://www.youtube.com/watch?v=EMMkLEXN09I</td>\n",
              "      <td>11K</td>\n",
              "    </tr>\n",
              "    <tr>\n",
              "      <th>4</th>\n",
              "      <td>머신러닝(기계학습) overview of Machine Learning</td>\n",
              "      <td>https://www.youtube.com/watch?v=IiyYsAMmmw4</td>\n",
              "      <td>18K</td>\n",
              "    </tr>\n",
              "    <tr>\n",
              "      <th>5</th>\n",
              "      <td>Don’t learn machine learning</td>\n",
              "      <td>https://www.youtube.com/watch?v=432p379XXMw</td>\n",
              "      <td>81K</td>\n",
              "    </tr>\n",
              "  </tbody>\n",
              "</table>\n",
              "</div>\n",
              "      <button class=\"colab-df-convert\" onclick=\"convertToInteractive('df-3d5484ec-358a-494e-8741-64f1e7198fb0')\"\n",
              "              title=\"Convert this dataframe to an interactive table.\"\n",
              "              style=\"display:none;\">\n",
              "        \n",
              "  <svg xmlns=\"http://www.w3.org/2000/svg\" height=\"24px\"viewBox=\"0 0 24 24\"\n",
              "       width=\"24px\">\n",
              "    <path d=\"M0 0h24v24H0V0z\" fill=\"none\"/>\n",
              "    <path d=\"M18.56 5.44l.94 2.06.94-2.06 2.06-.94-2.06-.94-.94-2.06-.94 2.06-2.06.94zm-11 1L8.5 8.5l.94-2.06 2.06-.94-2.06-.94L8.5 2.5l-.94 2.06-2.06.94zm10 10l.94 2.06.94-2.06 2.06-.94-2.06-.94-.94-2.06-.94 2.06-2.06.94z\"/><path d=\"M17.41 7.96l-1.37-1.37c-.4-.4-.92-.59-1.43-.59-.52 0-1.04.2-1.43.59L10.3 9.45l-7.72 7.72c-.78.78-.78 2.05 0 2.83L4 21.41c.39.39.9.59 1.41.59.51 0 1.02-.2 1.41-.59l7.78-7.78 2.81-2.81c.8-.78.8-2.07 0-2.86zM5.41 20L4 18.59l7.72-7.72 1.47 1.35L5.41 20z\"/>\n",
              "  </svg>\n",
              "      </button>\n",
              "      \n",
              "  <style>\n",
              "    .colab-df-container {\n",
              "      display:flex;\n",
              "      flex-wrap:wrap;\n",
              "      gap: 12px;\n",
              "    }\n",
              "\n",
              "    .colab-df-convert {\n",
              "      background-color: #E8F0FE;\n",
              "      border: none;\n",
              "      border-radius: 50%;\n",
              "      cursor: pointer;\n",
              "      display: none;\n",
              "      fill: #1967D2;\n",
              "      height: 32px;\n",
              "      padding: 0 0 0 0;\n",
              "      width: 32px;\n",
              "    }\n",
              "\n",
              "    .colab-df-convert:hover {\n",
              "      background-color: #E2EBFA;\n",
              "      box-shadow: 0px 1px 2px rgba(60, 64, 67, 0.3), 0px 1px 3px 1px rgba(60, 64, 67, 0.15);\n",
              "      fill: #174EA6;\n",
              "    }\n",
              "\n",
              "    [theme=dark] .colab-df-convert {\n",
              "      background-color: #3B4455;\n",
              "      fill: #D2E3FC;\n",
              "    }\n",
              "\n",
              "    [theme=dark] .colab-df-convert:hover {\n",
              "      background-color: #434B5C;\n",
              "      box-shadow: 0px 1px 3px 1px rgba(0, 0, 0, 0.15);\n",
              "      filter: drop-shadow(0px 1px 2px rgba(0, 0, 0, 0.3));\n",
              "      fill: #FFFFFF;\n",
              "    }\n",
              "  </style>\n",
              "\n",
              "      <script>\n",
              "        const buttonEl =\n",
              "          document.querySelector('#df-3d5484ec-358a-494e-8741-64f1e7198fb0 button.colab-df-convert');\n",
              "        buttonEl.style.display =\n",
              "          google.colab.kernel.accessAllowed ? 'block' : 'none';\n",
              "\n",
              "        async function convertToInteractive(key) {\n",
              "          const element = document.querySelector('#df-3d5484ec-358a-494e-8741-64f1e7198fb0');\n",
              "          const dataTable =\n",
              "            await google.colab.kernel.invokeFunction('convertToInteractive',\n",
              "                                                     [key], {});\n",
              "          if (!dataTable) return;\n",
              "\n",
              "          const docLinkHtml = 'Like what you see? Visit the ' +\n",
              "            '<a target=\"_blank\" href=https://colab.research.google.com/notebooks/data_table.ipynb>data table notebook</a>'\n",
              "            + ' to learn more about interactive tables.';\n",
              "          element.innerHTML = '';\n",
              "          dataTable['output_type'] = 'display_data';\n",
              "          await google.colab.output.renderOutput(dataTable, element);\n",
              "          const docLink = document.createElement('div');\n",
              "          docLink.innerHTML = docLinkHtml;\n",
              "          element.appendChild(docLink);\n",
              "        }\n",
              "      </script>\n",
              "    </div>\n",
              "  </div>\n",
              "  "
            ]
          },
          "metadata": {},
          "execution_count": 137
        }
      ]
    },
    {
      "cell_type": "code",
      "source": [
        "df.to_csv('youtube_search.csv', encoding='utf-8')"
      ],
      "metadata": {
        "id": "0UgDo2lPaOUb"
      },
      "execution_count": null,
      "outputs": []
    },
    {
      "cell_type": "code",
      "source": [
        "driver.quit()"
      ],
      "metadata": {
        "id": "E35fB3bHbLLo"
      },
      "execution_count": null,
      "outputs": []
    },
    {
      "cell_type": "code",
      "source": [
        ""
      ],
      "metadata": {
        "id": "wLNCNT9-bSaN"
      },
      "execution_count": null,
      "outputs": []
    }
  ]
}